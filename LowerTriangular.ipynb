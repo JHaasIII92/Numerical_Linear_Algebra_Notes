{
 "cells": [
  {
   "cell_type": "markdown",
   "metadata": {},
   "source": [
    "Given that matrix $L$ is a lower triangular matrix \n",
    "\n",
    "$$L = \\begin{pmatrix} \n",
    "l_{11} & 0 & 0 & 0 & 0 \\\\\n",
    "l_{21} & l_{22} & 0 & 0 & 0 \\\\\n",
    "l_{31} & l_{32} & l_{33} &\\cdots & 0 \\\\\n",
    "\\vdots & \\vdots & \\vdots & \\ddots & \\vdots \\\\\n",
    "l_{n1} & l_{n2} & l_{n3} & \\cdots & l_{nn}\n",
    "\\end{pmatrix}\n",
    "$$\n",
    "\n",
    "let $x$ and $b$ be vectors of length $n$ then for $Lx =b$ solving for $x$ can be done in $O(n^2)$ complexity.\n",
    "\n",
    "\n",
    "$l_{11}x_1 = b_1$<br>\n",
    "$l_{21}x_1 + l_{22}x_2 = b_2$<br>\n",
    "$l_{31}x_1 + l_{32}x_2 + l_{33}x_3 = b_3$<br>\n",
    "$\\vdots\\qquad\\vdots\\qquad\\vdots\\qquad\\vdots$<br>\n",
    "$l_{i1}x_1 + l_{i2}x_2 + l_{i3}x_3 + \\cdots + l_{ii}x_i= b_i$<br>\n",
    "$\\vdots\\qquad\\vdots\\qquad\\vdots\\qquad\\vdots\\qquad\\vdots$<br>\n",
    "$l_{n1}x_1 + l_{n2}x_2 + l_{n3}x_3 + \\cdots + l_{ni}x_i + \\cdots + l_{nn}x_n= b_i$\n",
    "<br>\n",
    "<br>\n",
    "<br>\n",
    "To derive the formula stat by solving for $x_1$\n",
    "$$x_1 = \\frac{b_1}{l_{11}}$$\n",
    "<br>\n",
    "Knowing $x_1$ means we can solve for $x_2$\n",
    "$$x_2 = \\frac{b_2 - l_{21}x_1}{l_{22}}$$\n",
    "<br>\n",
    "now $x_3$\n",
    "$$x_3 = \\frac{b_3 - (l_{31}x_1 + l_{32}x_2)}{l_{33}}$$\n",
    "<br>\n",
    "Continuing in this fashion to solve for the $x_i$ gives us a simple algorithm to solve for any lower triangular system\n",
    "$$x_i = \\frac{b_i - (l_{i1}x_1 + l_{i2}x_2 + l_{i3}x_3 + \\cdots + l_{i(i-1)}x_{(i-1)}}{l_{ii}}$$\n",
    "<br>\n",
    "$$ = \\Bigg(b_i - \\sum^{i-1}_{j=1}l_{ij}x_{j}\\Bigg)\\Bigg/l_{ii}$$"
   ]
  },
  {
   "cell_type": "markdown",
   "metadata": {},
   "source": [
    "The two functions below both follow the same algorithm with the only diffrence being that the first one is expermenting with julias ability to use refrences of memory instead of passing by value"
   ]
  },
  {
   "cell_type": "code",
   "execution_count": 216,
   "metadata": {},
   "outputs": [
    {
     "data": {
      "text/plain": [
       "forwardSub (generic function with 2 methods)"
      ]
     },
     "execution_count": 216,
     "metadata": {},
     "output_type": "execute_result"
    }
   ],
   "source": [
    "function forwardSub(A::Ref, b::Ref)\n",
    "\tx = zeros(size(b[]))\n",
    "\tx[1] = (b[])[1] / (A[])[1,1]\n",
    "\tfor i in 2:(size((b[]))[1])\n",
    "\t\tfor j in 1:i-1\n",
    "\t\t\tx[i] += (A[])[i,j]*x[j]\n",
    "\t\tend\n",
    "\t\tx[i] = ((b[])[i] - x[i])/(A[])[i,i]\n",
    "\tend\n",
    "\treturn Ref(x)\n",
    "end\n",
    "\n",
    "function forwardSub(A, b)\n",
    "\tx = zeros(size(b))\n",
    "\tx[1] = b[1] / A[1,1]\n",
    "\tfor i in 2:size(b)[1]\n",
    "\t\tfor j in 1:i-1\n",
    "\t\t\tx[i] += A[i,j]*x[j]\n",
    "\t\tend\n",
    "\t\tx[i] = (b[i] - x[i])/A[i,i]\n",
    "\tend\n",
    "\treturn x\n",
    "end"
   ]
  },
  {
   "cell_type": "markdown",
   "metadata": {},
   "source": [
    "Below are the bench marks of the two functions that I have wrote and the thrid is julias built in function"
   ]
  },
  {
   "cell_type": "code",
   "execution_count": 217,
   "metadata": {},
   "outputs": [],
   "source": [
    "using LinearAlgebra\n",
    "using BenchmarkTools\n",
    "n = 1000;\n",
    "L = LowerTriangular(rand(n,n));\n",
    "b = rand(n,1);"
   ]
  },
  {
   "cell_type": "code",
   "execution_count": 218,
   "metadata": {},
   "outputs": [
    {
     "data": {
      "text/plain": [
       "BenchmarkTools.Trial: \n",
       "  memory estimate:  7.98 KiB\n",
       "  allocs estimate:  4\n",
       "  --------------\n",
       "  minimum time:     944.817 μs (0.00% GC)\n",
       "  median time:      1.086 ms (0.00% GC)\n",
       "  mean time:        1.205 ms (0.30% GC)\n",
       "  maximum time:     16.381 ms (90.15% GC)\n",
       "  --------------\n",
       "  samples:          4125\n",
       "  evals/sample:     1"
      ]
     },
     "execution_count": 218,
     "metadata": {},
     "output_type": "execute_result"
    }
   ],
   "source": [
    "@benchmark forwardSub(Ref(L),Ref(b))[]"
   ]
  },
  {
   "cell_type": "code",
   "execution_count": 219,
   "metadata": {},
   "outputs": [
    {
     "data": {
      "text/plain": [
       "BenchmarkTools.Trial: \n",
       "  memory estimate:  7.94 KiB\n",
       "  allocs estimate:  1\n",
       "  --------------\n",
       "  minimum time:     831.994 μs (0.00% GC)\n",
       "  median time:      884.613 μs (0.00% GC)\n",
       "  mean time:        903.082 μs (0.00% GC)\n",
       "  maximum time:     1.783 ms (0.00% GC)\n",
       "  --------------\n",
       "  samples:          5442\n",
       "  evals/sample:     1"
      ]
     },
     "execution_count": 219,
     "metadata": {},
     "output_type": "execute_result"
    }
   ],
   "source": [
    "@benchmark forwardSub(L,b)"
   ]
  },
  {
   "cell_type": "code",
   "execution_count": 220,
   "metadata": {},
   "outputs": [
    {
     "data": {
      "text/plain": [
       "BenchmarkTools.Trial: \n",
       "  memory estimate:  7.94 KiB\n",
       "  allocs estimate:  1\n",
       "  --------------\n",
       "  minimum time:     421.005 μs (0.00% GC)\n",
       "  median time:      453.247 μs (0.00% GC)\n",
       "  mean time:        506.931 μs (0.00% GC)\n",
       "  maximum time:     3.895 ms (0.00% GC)\n",
       "  --------------\n",
       "  samples:          9605\n",
       "  evals/sample:     1"
      ]
     },
     "execution_count": 220,
     "metadata": {},
     "output_type": "execute_result"
    }
   ],
   "source": [
    "@benchmark L\\b"
   ]
  }
 ],
 "metadata": {
  "kernelspec": {
   "display_name": "Julia 1.0.3",
   "language": "julia",
   "name": "julia-1.0"
  },
  "language_info": {
   "file_extension": ".jl",
   "mimetype": "application/julia",
   "name": "julia",
   "version": "1.0.3"
  }
 },
 "nbformat": 4,
 "nbformat_minor": 2
}
