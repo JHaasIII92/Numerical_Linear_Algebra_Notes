{
 "cells": [
  {
   "cell_type": "markdown",
   "metadata": {},
   "source": [
    "Given that matrix $L$ is a lower triangular matrix \n",
    "\n",
    "$$L = \\begin{pmatrix} \n",
    "l_{11} & 0 & 0 & 0 & 0 \\\\\n",
    "l_{21} & l_{22} & 0 & 0 & 0 \\\\\n",
    "l_{31} & l_{32} & l_{33} &\\cdots & 0 \\\\\n",
    "\\vdots & \\vdots & \\vdots & \\ddots & \\vdots \\\\\n",
    "l_{n1} & l_{n2} & l_{n3} & \\cdots & l_{nn}\n",
    "\\end{pmatrix}\n",
    "$$\n",
    "\n",
    "let $x$ and $b$ be vectors of length $n$ then for $Lx =b$ solving for $x$ can be done in $O(n^2)$ complexity.\n",
    "\n",
    "\n",
    "$l_{11}x_1 = b_1$<br>\n",
    "$l_{21}x_1 + l_{22}x_2 = b_2$<br>\n",
    "$l_{31}x_1 + l_{32}x_2 + l_{33}x_3 = b_3$<br>\n",
    "$\\vdots\\qquad\\vdots\\qquad\\vdots\\qquad\\vdots$<br>\n",
    "$l_{i1}x_1 + l_{i2}x_2 + l_{i3}x_3 + \\cdots + l_{ii}x_i= b_i$<br>\n",
    "$\\vdots\\qquad\\vdots\\qquad\\vdots\\qquad\\vdots\\qquad\\vdots$<br>\n",
    "$l_{n1}x_1 + l_{n2}x_2 + l_{n3}x_3 + \\cdots + l_{ni}x_i + \\cdots + l_{nn}x_n= b_i$\n",
    "<br>\n",
    "<br>\n",
    "<br>\n",
    "To derive the formula stat by solving for $x_1$\n",
    "$$x_1 = \\frac{b_1}{l_{11}}$$\n",
    "<br>\n",
    "Knowing $x_1$ means we can solve for $x_2$\n",
    "$$x_2 = \\frac{b_2 - l_{21}x_1}{l_{22}}$$\n",
    "<br>\n",
    "now $x_3$\n",
    "$$x_3 = \\frac{b_3 - (l_{31}x_1 + l_{32}x_2)}{l_{33}}$$\n",
    "<br>\n",
    "Continuing in this fashion to solve for the $x_i$ gives us a simple algorithm to solve for any lower triangular system\n",
    "$$x_i = \\frac{b_i - (l_{i1}x_1 + l_{i2}x_2 + l_{i3}x_3 + \\cdots + l_{i(i-1)}x_{(i-1)}}{l_{ii}}$$\n",
    "<br>\n",
    "$$ = \\Bigg(b_i - \\sum^{i-1}_{j=1}l_{ij}x_{j}\\Bigg)\\Bigg/l_{ii}$$"
   ]
  },
  {
   "cell_type": "code",
   "execution_count": 7,
   "metadata": {},
   "outputs": [],
   "source": [
    "function row_forwardSub(A, b)\n",
    "\tx = zeros(size(b))\n",
    "\tx[1] = b[1] / A[1,1]\n",
    "\tfor i in 2:size(b)[1]\n",
    "\t\tfor j in 1:i-1\n",
    "\t\t\tx[i] += A[i,j]*x[j]\n",
    "\t\tend\n",
    "\t\tx[i] = (b[i] - x[i])/A[i,i]\n",
    "\tend\n",
    "\treturn x\n",
    "\tend;"
   ]
  },
  {
   "cell_type": "markdown",
   "metadata": {},
   "source": [
    "# The Block Matrix Approach"
   ]
  },
  {
   "cell_type": "markdown",
   "metadata": {},
   "source": [
    "<b>Since Julia is a column major it might be possible to pick up speed in evaluating lower triangualr matrices column wise. The approch to doing so will be a recursive algorithm"
   ]
  },
  {
   "cell_type": "markdown",
   "metadata": {},
   "source": [
    "$$\\begin{pmatrix} \n",
    "l_{11} & 0 & 0 & 0 & 0 \\\\\n",
    "l_{21} & l_{22} & 0 & 0 & 0 \\\\\n",
    "l_{31} & l_{32} & l_{33} &\\cdots & 0 \\\\\n",
    "\\vdots & \\vdots & \\vdots & \\ddots & \\vdots \\\\\n",
    "l_{n1} & l_{n2} & l_{n3} & \\cdots & l_{nn}\n",
    "\\end{pmatrix}\n",
    "\\begin{pmatrix}\n",
    "x_1 \\\\\n",
    "x_2 \\\\\n",
    "x_3 \\\\\n",
    "\\ddots \\\\\n",
    "x_n\n",
    "\\end{pmatrix}\n",
    "=\n",
    "\\begin{pmatrix}\n",
    "b_1 \\\\\n",
    "b_2 \\\\\n",
    "b_3 \\\\\n",
    "\\ddots \\\\\n",
    "b_n\n",
    "\\end{pmatrix}\n",
    "$$\n",
    "\n",
    "<br>\n",
    "\n",
    "The first step is to turn $L$ into a block matrix and block the two vectors $x$ and $b$\n",
    "\n",
    "<br>\n",
    "\n",
    "$$\\begin{pmatrix} \n",
    "l_{11} & \\hat{0} \\\\\n",
    "\\hat{l} & \\hat{L}\n",
    "\\end{pmatrix}\n",
    "\\begin{pmatrix}\n",
    "x_1 \\\\\n",
    "\\hat{x}\n",
    "\\end{pmatrix}\n",
    "=\n",
    "\\begin{pmatrix}\n",
    "b_1 \\\\\n",
    "\\hat{b}\n",
    "\\end{pmatrix}\n",
    "$$\n",
    "\n",
    "<br>\n",
    "\n",
    "where $l_{11}$ is the first entry in the triangular matrix, $\\:\\: \\hat{l}$ is vector of length $(n - 1)$, $\\:\\:\\hat{0}$ is column vector of length $(n - 1)$,$\\:\\:$and finaly $\\hat{L}$ is an $(n - 1) \\times (n-1)$ matrix. solving for $x_1$ is still just about free $x_1 = b_1\\big/l_{11}$\n",
    "\n",
    "<br>\n",
    "<br>\n",
    "\n",
    "$$\\hat{l}x_1 + \\hat{L}\\hat{x} = \\hat{b}$$\n",
    "<br>\n",
    "$$\\hat{L}\\hat{x} = \\hat{b} - \\hat{l}x_1$$\n",
    "\n",
    "<br>\n",
    "<br>\n",
    "\n",
    "With that $\\hat{L}$ can be turned into a block matrix, and $l_{22}$ will be the first entry and $x_2$ can be solved for as easy as $x_2 = b_2\\big/l_{22}$\n",
    "\n",
    "<br>\n",
    "<br>\n",
    "\n",
    "$$\\hat{l}x_2 + \\hat{L}\\hat{x} = \\hat{b}$$\n",
    "<br>\n",
    "$$\\hat{L}\\hat{x} = \\hat{b} - \\hat{l}x_2$$\n",
    "\n",
    "<br>\n",
    "<br>\n",
    "\n",
    "I will continue in this fashion until all $x$'s have been solved for"
   ]
  },
  {
   "cell_type": "markdown",
   "metadata": {},
   "source": [
    "The function\n",
    "\n",
    "Pre loop:\n",
    "<br>\n",
    "Instead of allocating a vector of length $n$ to store values of $x$ a copy if the vector $b$ will be made this is so values of the vector can be manipulated without overwriting the original vector it will also store the each value of $x$ that is solved for.\n",
    "\n",
    "\n",
    "main loop:\n",
    "<br>\n",
    "solve for the $i^{th}$ value of $x$ then store that value in the $i^{th}$ slot of the vector $b$\n",
    "\n",
    "$$x_{i} = b_i \\bigg/ l_{ii}$$\n",
    "\n",
    "inner loop:\n",
    "<br>\n",
    "The nested loop is for updating each remaining value of $b$ which represents $\\hat b$ the vector $\\hat{l}$ will be made from the $i^{th}$ column of $L$ and restricting the range of the inner loop starting it at $i +1$ \n",
    "\n",
    " $$b_j = b_j - l_{ji}x_i$$\n",
    "\n"
   ]
  },
  {
   "cell_type": "code",
   "execution_count": 4,
   "metadata": {},
   "outputs": [],
   "source": [
    "function col_forwardSub(L,b)\n",
    "\tb_copy = copy(b)\n",
    "\tfor i in 1:size(b_copy)[1]\n",
    "\t\tb_copy[i] = b_copy[i]/L[i,i]\n",
    "\t\tfor j in i+1:size(b_copy)[1]\n",
    "\t\t\tb_copy[j] -= L[j,i] * b_copy[i]\n",
    "\t\tend\n",
    "\tend\n",
    "\treturn b_copy\t\n",
    "\tend;"
   ]
  },
  {
   "cell_type": "markdown",
   "metadata": {},
   "source": [
    "Finaly to see the preformance of the builtin row, and column\n",
    "I will use the BenchmarkTools libray"
   ]
  },
  {
   "cell_type": "code",
   "execution_count": 1,
   "metadata": {},
   "outputs": [],
   "source": [
    "using LinearAlgebra\n",
    "using BenchmarkTools\n",
    "n = 1000;\n",
    "L = LowerTriangular(rand(n,n));\n",
    "b = rand(n,1);"
   ]
  },
  {
   "cell_type": "code",
   "execution_count": 13,
   "metadata": {},
   "outputs": [
    {
     "data": {
      "text/plain": [
       "BenchmarkTools.Trial: \n",
       "  memory estimate:  7.94 KiB\n",
       "  allocs estimate:  1\n",
       "  --------------\n",
       "  minimum time:     405.666 μs (0.00% GC)\n",
       "  median time:      431.286 μs (0.00% GC)\n",
       "  mean time:        455.590 μs (0.00% GC)\n",
       "  maximum time:     1.847 ms (0.00% GC)\n",
       "  --------------\n",
       "  samples:          10000\n",
       "  evals/sample:     1"
      ]
     },
     "execution_count": 13,
     "metadata": {},
     "output_type": "execute_result"
    }
   ],
   "source": [
    "@benchmark L\\b"
   ]
  },
  {
   "cell_type": "code",
   "execution_count": 14,
   "metadata": {},
   "outputs": [
    {
     "data": {
      "text/plain": [
       "BenchmarkTools.Trial: \n",
       "  memory estimate:  7.94 KiB\n",
       "  allocs estimate:  1\n",
       "  --------------\n",
       "  minimum time:     794.523 μs (0.00% GC)\n",
       "  median time:      815.607 μs (0.00% GC)\n",
       "  mean time:        843.676 μs (0.00% GC)\n",
       "  maximum time:     3.315 ms (0.00% GC)\n",
       "  --------------\n",
       "  samples:          5840\n",
       "  evals/sample:     1"
      ]
     },
     "execution_count": 14,
     "metadata": {},
     "output_type": "execute_result"
    }
   ],
   "source": [
    "@benchmark row_forwardSub(L,b)"
   ]
  },
  {
   "cell_type": "code",
   "execution_count": 15,
   "metadata": {},
   "outputs": [
    {
     "data": {
      "text/plain": [
       "BenchmarkTools.Trial: \n",
       "  memory estimate:  7.94 KiB\n",
       "  allocs estimate:  1\n",
       "  --------------\n",
       "  minimum time:     544.303 μs (0.00% GC)\n",
       "  median time:      549.759 μs (0.00% GC)\n",
       "  mean time:        565.346 μs (0.00% GC)\n",
       "  maximum time:     1.666 ms (0.00% GC)\n",
       "  --------------\n",
       "  samples:          8697\n",
       "  evals/sample:     1"
      ]
     },
     "execution_count": 15,
     "metadata": {},
     "output_type": "execute_result"
    }
   ],
   "source": [
    "@benchmark col_forwardSub(L,b)"
   ]
  }
 ],
 "metadata": {
  "kernelspec": {
   "display_name": "Julia 1.0.3",
   "language": "julia",
   "name": "julia-1.0"
  },
  "language_info": {
   "file_extension": ".jl",
   "mimetype": "application/julia",
   "name": "julia",
   "version": "1.0.3"
  }
 },
 "nbformat": 4,
 "nbformat_minor": 2
}
